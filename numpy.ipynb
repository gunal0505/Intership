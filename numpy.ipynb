{
  "nbformat": 4,
  "nbformat_minor": 0,
  "metadata": {
    "colab": {
      "provenance": []
    },
    "kernelspec": {
      "name": "python3",
      "display_name": "Python 3"
    },
    "language_info": {
      "name": "python"
    }
  },
  "cells": [
    {
      "cell_type": "code",
      "execution_count": null,
      "metadata": {
        "id": "KKeSOT1YDtXo"
      },
      "outputs": [],
      "source": []
    },
    {
      "cell_type": "code",
      "source": [
        "import numpy as np\n",
        "from numpy import *\n",
        "arr=array([1,5.6,7,8],float)\n",
        "print(arr.dtype)\n",
        "print(arr)"
      ],
      "metadata": {
        "colab": {
          "base_uri": "https://localhost:8080/"
        },
        "id": "ZRKp_gROFFI_",
        "outputId": "958d19c0-6ac6-445f-838b-2876f8a8d3a7"
      },
      "execution_count": 2,
      "outputs": [
        {
          "output_type": "stream",
          "name": "stdout",
          "text": [
            "float64\n",
            "[1.  5.6 7.  8. ]\n"
          ]
        }
      ]
    },
    {
      "cell_type": "code",
      "source": [
        "arr=np.arange(1,8,2)\n",
        "print(arr)"
      ],
      "metadata": {
        "colab": {
          "base_uri": "https://localhost:8080/"
        },
        "id": "o75jdd8JGmad",
        "outputId": "77e94922-bec3-4219-db8a-ce441311354c"
      },
      "execution_count": 6,
      "outputs": [
        {
          "output_type": "stream",
          "name": "stdout",
          "text": [
            "[1 3 5 7]\n"
          ]
        }
      ]
    },
    {
      "cell_type": "code",
      "source": [
        "logvalues = np.logspace(1, 3,5)\n",
        "\n",
        "\n",
        "int_logvalues = logvalues.astype(int)\n",
        "print(int_logvalues)\n"
      ],
      "metadata": {
        "colab": {
          "base_uri": "https://localhost:8080/"
        },
        "id": "NsQXbsNRIYRC",
        "outputId": "188579ba-9935-4d6b-f34f-2282fa177264"
      },
      "execution_count": 11,
      "outputs": [
        {
          "output_type": "stream",
          "name": "stdout",
          "text": [
            "[  10   31  100  316 1000]\n"
          ]
        }
      ]
    },
    {
      "cell_type": "code",
      "source": [
        "arr=zeros(4,int)\n",
        "print(arr)"
      ],
      "metadata": {
        "colab": {
          "base_uri": "https://localhost:8080/"
        },
        "id": "nWCsGE9lJedy",
        "outputId": "8c7691fb-2024-47ad-85bb-b34f84e55e64"
      },
      "execution_count": 13,
      "outputs": [
        {
          "output_type": "stream",
          "name": "stdout",
          "text": [
            "[0 0 0 0]\n"
          ]
        }
      ]
    },
    {
      "cell_type": "code",
      "source": [
        "arr= zeros((2,4,6),int)\n",
        "print(arr)"
      ],
      "metadata": {
        "colab": {
          "base_uri": "https://localhost:8080/"
        },
        "id": "zIOWD75fJ-dk",
        "outputId": "ac16d6b4-708a-4704-86b4-a1b2fc32a507"
      },
      "execution_count": 15,
      "outputs": [
        {
          "output_type": "stream",
          "name": "stdout",
          "text": [
            "[[[0 0 0 0 0 0]\n",
            "  [0 0 0 0 0 0]\n",
            "  [0 0 0 0 0 0]\n",
            "  [0 0 0 0 0 0]]\n",
            "\n",
            " [[0 0 0 0 0 0]\n",
            "  [0 0 0 0 0 0]\n",
            "  [0 0 0 0 0 0]\n",
            "  [0 0 0 0 0 0]]]\n"
          ]
        }
      ]
    },
    {
      "cell_type": "code",
      "source": [
        "arr= ones((3,4,4),int)\n",
        "print(arr)"
      ],
      "metadata": {
        "colab": {
          "base_uri": "https://localhost:8080/"
        },
        "id": "iExTW8a7KHx2",
        "outputId": "4c6c86f0-e4b7-4f0e-e913-d567341fbf40"
      },
      "execution_count": 16,
      "outputs": [
        {
          "output_type": "stream",
          "name": "stdout",
          "text": [
            "[[[1 1 1 1]\n",
            "  [1 1 1 1]\n",
            "  [1 1 1 1]\n",
            "  [1 1 1 1]]\n",
            "\n",
            " [[1 1 1 1]\n",
            "  [1 1 1 1]\n",
            "  [1 1 1 1]\n",
            "  [1 1 1 1]]\n",
            "\n",
            " [[1 1 1 1]\n",
            "  [1 1 1 1]\n",
            "  [1 1 1 1]\n",
            "  [1 1 1 1]]]\n"
          ]
        }
      ]
    },
    {
      "cell_type": "code",
      "source": [
        "list=[[1,2,3,4],[5,3,7,6]]\n",
        "arr=np.array(list)\n",
        "print(arr)"
      ],
      "metadata": {
        "colab": {
          "base_uri": "https://localhost:8080/"
        },
        "id": "SSLvMAdPK1yG",
        "outputId": "012217f3-af4a-4817-87ee-48cfecedd014"
      },
      "execution_count": 18,
      "outputs": [
        {
          "output_type": "stream",
          "name": "stdout",
          "text": [
            "[[1 2 3 4]\n",
            " [5 3 7 6]]\n"
          ]
        }
      ]
    },
    {
      "cell_type": "code",
      "source": [
        "matrix=np.full((4,3),8)\n",
        "print(matrix)"
      ],
      "metadata": {
        "colab": {
          "base_uri": "https://localhost:8080/"
        },
        "id": "vr3QDzd1LR8M",
        "outputId": "66bf4680-76c3-4ec9-e655-2eb5967ebe8a"
      },
      "execution_count": 19,
      "outputs": [
        {
          "output_type": "stream",
          "name": "stdout",
          "text": [
            "[[8 8 8]\n",
            " [8 8 8]\n",
            " [8 8 8]\n",
            " [8 8 8]]\n"
          ]
        }
      ]
    },
    {
      "cell_type": "code",
      "source": [
        "matrix=np.full(4,8)\n",
        "print(matrix)"
      ],
      "metadata": {
        "colab": {
          "base_uri": "https://localhost:8080/"
        },
        "id": "sqLtIzRyLafe",
        "outputId": "5d7e4395-5331-46b2-ac49-d1a3c8b7f423"
      },
      "execution_count": 20,
      "outputs": [
        {
          "output_type": "stream",
          "name": "stdout",
          "text": [
            "[8 8 8 8]\n"
          ]
        }
      ]
    },
    {
      "cell_type": "code",
      "source": [
        "arr=ones(5,int)\n",
        "print(arr)"
      ],
      "metadata": {
        "colab": {
          "base_uri": "https://localhost:8080/"
        },
        "id": "NR2grPfYJkAy",
        "outputId": "0aa1c39f-15a1-4bad-fb3c-0218c0fefe88"
      },
      "execution_count": 14,
      "outputs": [
        {
          "output_type": "stream",
          "name": "stdout",
          "text": [
            "[1 1 1 1 1]\n"
          ]
        }
      ]
    },
    {
      "cell_type": "markdown",
      "source": [],
      "metadata": {
        "id": "24bga-CjLxeK"
      }
    },
    {
      "cell_type": "code",
      "source": [
        "arr=logspace(1,20,3)\n",
        "print(arr)\n",
        "print(arr[2])"
      ],
      "metadata": {
        "colab": {
          "base_uri": "https://localhost:8080/"
        },
        "id": "Hxq415C_HGDW",
        "outputId": "c0b01ea4-18e2-4a38-90f7-9e9d194ea48d"
      },
      "execution_count": 8,
      "outputs": [
        {
          "output_type": "stream",
          "name": "stdout",
          "text": [
            "[1.00000000e+01 3.16227766e+10 1.00000000e+20]\n",
            "1e+20\n"
          ]
        }
      ]
    },
    {
      "cell_type": "code",
      "source": [
        "matrix=np.eye(3)\n",
        "print(matrix)"
      ],
      "metadata": {
        "colab": {
          "base_uri": "https://localhost:8080/"
        },
        "id": "Pro-aNasL8Zc",
        "outputId": "9f23b7d0-7927-442e-e851-aae980655ff5"
      },
      "execution_count": 21,
      "outputs": [
        {
          "output_type": "stream",
          "name": "stdout",
          "text": [
            "[[1. 0. 0.]\n",
            " [0. 1. 0.]\n",
            " [0. 0. 1.]]\n"
          ]
        }
      ]
    },
    {
      "cell_type": "code",
      "source": [
        "matrix=np.diag([1,2])\n",
        "print(matrix)"
      ],
      "metadata": {
        "colab": {
          "base_uri": "https://localhost:8080/"
        },
        "id": "eDDiOq0vL8a7",
        "outputId": "ecbdd516-ddf4-445c-8626-fc978b9105b7"
      },
      "execution_count": 25,
      "outputs": [
        {
          "output_type": "stream",
          "name": "stdout",
          "text": [
            "[[1 0]\n",
            " [0 2]]\n"
          ]
        }
      ]
    },
    {
      "cell_type": "code",
      "source": [
        "arr= np.random.rand(3)\n",
        "print(arr)"
      ],
      "metadata": {
        "colab": {
          "base_uri": "https://localhost:8080/"
        },
        "id": "4_VbGkViMoYN",
        "outputId": "66bdeae0-240f-4f34-8b13-ff93e042d2f2"
      },
      "execution_count": 26,
      "outputs": [
        {
          "output_type": "stream",
          "name": "stdout",
          "text": [
            "[0.57519937 0.59460794 0.52534431]\n"
          ]
        }
      ]
    },
    {
      "cell_type": "code",
      "source": [
        "arr= np.random.randint(5)\n",
        "print(arr)"
      ],
      "metadata": {
        "colab": {
          "base_uri": "https://localhost:8080/"
        },
        "id": "XI6SX-ZUMtIv",
        "outputId": "86229c36-a28c-4589-9e93-00cb65ceacfb"
      },
      "execution_count": 30,
      "outputs": [
        {
          "output_type": "stream",
          "name": "stdout",
          "text": [
            "0\n"
          ]
        }
      ]
    },
    {
      "cell_type": "code",
      "source": [
        "arr=np.random.rand(3,4,4)\n",
        "print(arr)"
      ],
      "metadata": {
        "colab": {
          "base_uri": "https://localhost:8080/"
        },
        "id": "EQ2818b1M9Np",
        "outputId": "61ce254e-58eb-4cbf-c291-49668b175e83"
      },
      "execution_count": 32,
      "outputs": [
        {
          "output_type": "stream",
          "name": "stdout",
          "text": [
            "[[[0.26127533 0.1715791  0.59804288 0.07937381]\n",
            "  [0.73451813 0.52569521 0.43900294 0.89794852]\n",
            "  [0.41407844 0.92759185 0.51317296 0.36979052]\n",
            "  [0.29287481 0.65929935 0.85315999 0.6399959 ]]\n",
            "\n",
            " [[0.81950274 0.07724175 0.64752675 0.31174239]\n",
            "  [0.09695282 0.79785861 0.349802   0.83821837]\n",
            "  [0.29952746 0.60833378 0.31941321 0.69301581]\n",
            "  [0.57155464 0.29239869 0.27199423 0.35780522]]\n",
            "\n",
            " [[0.62189202 0.85971525 0.62089198 0.05399718]\n",
            "  [0.72570207 0.45256621 0.86391384 0.10568236]\n",
            "  [0.59243723 0.63496302 0.11875969 0.77938425]\n",
            "  [0.83715781 0.54399737 0.41617829 0.0136409 ]]]\n"
          ]
        }
      ]
    },
    {
      "cell_type": "code",
      "source": [
        "arr=np.random.randint(0,10,10)\n",
        "print(arr)"
      ],
      "metadata": {
        "colab": {
          "base_uri": "https://localhost:8080/"
        },
        "id": "O67Q28hSNOkY",
        "outputId": "08088cb5-e976-4edb-ed45-a62107ed13bc"
      },
      "execution_count": 33,
      "outputs": [
        {
          "output_type": "stream",
          "name": "stdout",
          "text": [
            "[9 0 3 2 6 0 8 8 0 0]\n"
          ]
        }
      ]
    },
    {
      "cell_type": "code",
      "source": [
        "arr=np.random.rand(3,4,2)\n",
        "print(arr)"
      ],
      "metadata": {
        "colab": {
          "base_uri": "https://localhost:8080/"
        },
        "id": "sff7_X-TM9PK",
        "outputId": "f3047d9f-7834-4eef-c1b8-5ff5a41a6a03"
      },
      "execution_count": 31,
      "outputs": [
        {
          "output_type": "stream",
          "name": "stdout",
          "text": [
            "[[[0.99477337 0.19300308]\n",
            "  [0.55836532 0.82367246]\n",
            "  [0.42425666 0.01803387]\n",
            "  [0.55156302 0.1195069 ]]\n",
            "\n",
            " [[0.55319689 0.96701256]\n",
            "  [0.31143133 0.39396385]\n",
            "  [0.19598997 0.8923769 ]\n",
            "  [0.20059617 0.93595896]]\n",
            "\n",
            " [[0.95007214 0.88800684]\n",
            "  [0.24084121 0.77713181]\n",
            "  [0.88909437 0.69771565]\n",
            "  [0.62281013 0.65804127]]]\n"
          ]
        }
      ]
    },
    {
      "cell_type": "code",
      "source": [
        "arr=np.random.randint(0,10,(2,2))\n",
        "print(arr)"
      ],
      "metadata": {
        "colab": {
          "base_uri": "https://localhost:8080/"
        },
        "id": "HYhJn-7lNUO-",
        "outputId": "c9d8bc61-8e44-40d7-9416-6ebc10bf10e8"
      },
      "execution_count": 34,
      "outputs": [
        {
          "output_type": "stream",
          "name": "stdout",
          "text": [
            "[[8 7]\n",
            " [9 8]]\n"
          ]
        }
      ]
    }
  ]
}